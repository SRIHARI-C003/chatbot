{
  "cells": [
    {
      "cell_type": "markdown",
      "source": [
        "To import the important libraries to create the chatbox using python"
      ],
      "metadata": {
        "id": "xKm_6yQzixOY"
      }
    },
    {
      "cell_type": "code",
      "execution_count": 37,
      "metadata": {
        "id": "WyQbsh3pNIq1"
      },
      "outputs": [],
      "source": [
        "import io\n",
        "import random\n",
        "import string\n",
        "import numpy as np\n",
        "from sklearn.feature_extraction.text import TfidfVectorizer\n",
        "from sklearn.metrics.pairwise import cosine_similarity\n",
        "import warnings\n",
        "warnings.filterwarnings('ignore')"
      ]
    },
    {
      "cell_type": "markdown",
      "source": [
        "We want text so dowload the nltk libraries from the colab resources"
      ],
      "metadata": {
        "id": "y1yse7-ji7qU"
      }
    },
    {
      "cell_type": "code",
      "execution_count": 38,
      "metadata": {
        "colab": {
          "base_uri": "https://localhost:8080/",
          "height": 0
        },
        "id": "DJzs5S24PHlg",
        "outputId": "011f5928-95c8-414a-b9d8-182bcb7db048"
      },
      "outputs": [
        {
          "output_type": "stream",
          "name": "stdout",
          "text": [
            "Requirement already satisfied: nltk in /usr/local/lib/python3.10/dist-packages (3.8.1)\n",
            "Requirement already satisfied: click in /usr/local/lib/python3.10/dist-packages (from nltk) (8.1.7)\n",
            "Requirement already satisfied: joblib in /usr/local/lib/python3.10/dist-packages (from nltk) (1.3.2)\n",
            "Requirement already satisfied: regex>=2021.8.3 in /usr/local/lib/python3.10/dist-packages (from nltk) (2023.6.3)\n",
            "Requirement already satisfied: tqdm in /usr/local/lib/python3.10/dist-packages (from nltk) (4.66.1)\n"
          ]
        }
      ],
      "source": [
        "pip install nltk"
      ]
    },
    {
      "cell_type": "code",
      "execution_count": 39,
      "metadata": {
        "colab": {
          "base_uri": "https://localhost:8080/",
          "height": 0
        },
        "id": "mBaVK5aIPVII",
        "outputId": "0c6c7f14-5cc4-4d15-a4b6-136518b7cfe4"
      },
      "outputs": [
        {
          "output_type": "execute_result",
          "data": {
            "text/plain": [
              "True"
            ]
          },
          "metadata": {},
          "execution_count": 39
        }
      ],
      "source": [
        "import nltk\n",
        "from nltk.stem import WordNetLemmatizer\n",
        "nltk.download('popular', quiet=True)"
      ]
    },
    {
      "cell_type": "markdown",
      "source": [
        "to display the answers we convert json file to text file using python"
      ],
      "metadata": {
        "id": "PrfAB9cijDlI"
      }
    },
    {
      "cell_type": "code",
      "execution_count": 40,
      "metadata": {
        "id": "Xn_PaLHQTCOr"
      },
      "outputs": [],
      "source": [
        "import json"
      ]
    },
    {
      "cell_type": "code",
      "execution_count": 42,
      "metadata": {
        "id": "f3WpunB2TKvZ",
        "colab": {
          "base_uri": "https://localhost:8080/",
          "height": 174
        },
        "outputId": "876a2a98-de9e-44df-abf8-c0700fc3cef6"
      },
      "outputs": [
        {
          "output_type": "execute_result",
          "data": {
            "text/plain": [
              "'{\\n    \"intents\": [\\n        {\\n            \"tag\": \"greeting\",\\n            \"patterns\": [\\n                \"hi\",\\n                \"hey\",\\n                \"how are you\",\\n                \"is anyone there?\",\\n                \"hello\",\\n                \"good day\",\\n                \"what\\'s up\",\\n                \"yo!\",\\n                \"howdy\",\\n                \"nice to meet you.\"\\n            ],\\n            \"responses\": [\\n                \"hey\",\\n                \"hello, thanks for visiting.\",\\n                \"hi there, what can i do for you?\",\\n                \"hi there, how can i help?\",\\n                \"hello, there.\",\\n                \"hello dear\",\\n                \"ooooo hello, looking for someone or something?\",\\n                \"yes, i am here.\",\\n                \"listening carefully.\",\\n                \"ok, i am with you.\"\\n            ]\\n        },\\n        {\\n            \"tag\": \"goodbye\",\\n            \"patterns\": [\\n                \"bye\",\\n                \"see you later.\",\\n                \"goodbye\",\\n                \"have a great day.\",\\n                \"see you next time.\",\\n                \"it was my pleassure.\",\\n                \"take care.\",\\n                \"see ya!\",\\n                \"catch you later.\",\\n                \"ciao.\"\\n            ],\\n            \"responses\": [\\n                \"see you later, thanks for visiting.\",\\n                \"may the force be with you!\",\\n                \"see next time.\",\\n                \"was my pleassuare to meet you.\",\\n                \"hope will cath up sortly.\",\\n                \"have a nice day.\",\\n                \"bye! come back again soon.\",\\n                \"so, till next time.\",\\n                \"if you need anything just text me anytime. bye.\",\\n                \"well, hope see you soon!\"\\n            ]\\n        },\\n        {\\n            \"tag\": \"thanks\",\\n            \"patterns\": [\\n                \"thanks\",\\n                \"thank you\",\\n                \"that\\'s helpful\",\\n                \"thank\\'s a lot!\",\\n                \"tnx\",\\n                \"wow\",\\n                \"great!\",\\n                \"good!\",\\n                \"that nice!\",\\n                \"amazing!\"\\n            ],\\n            \"responses\": [\\n                \"happy to help!\",\\n                \"any time!\",\\n                \"my pleasure!\",\\n                \"no problem!\",\\n                \"thans does not \",\\n                \"glad to help!\",\\n                \"no worries!\",\\n                \"it was the least i could do!\",\\n                \"if i had a cent for every time i appreciate you, i’d be a millionaire.\",\\n                \"you can\\'t put thanks in your pocket!\"\\n            ]\\n        },\\n        {\\n            \"tag\": \"tasks\",\\n            \"patterns\": [\\n                \"what can you do?\",\\n                \"what are your features?\",\\n                \"what are you abilities.\",\\n                \"can you sing.\",\\n                \"can you talk.\"\\n            ],\\n            \"responses\": [\\n                \"i can do whatever you asks me to do\",\\n                \"i can talk and do things for you\",\\n                \"right now i\\'m in developing stage as soon i\\'m developed, i can do everything\"\\n            ]\\n        },\\n        {\\n            \"tag\": \"alive\",\\n            \"patterns\": [\\n                \"are you alive.\",\\n                \"do you breathe.\",\\n                \"can you run.\"\\n            ],\\n            \"responses\": [\\n                \"i\\'m in doubt about that\",\\n                \"no, i don\\'t think so i need to do all this\"\\n            ]\\n        },\\n        {\\n            \"tag\": \"menu\",\\n            \"patterns\": [\\n                \"which items do you have in your bar?\",\\n                \"what kinds of items are in you bar?\",\\n                \"what do you serve?\",\\n                \"what is in you menu?\",\\n                \"i need a drink!\",\\n                \"do you serve drinks.\",\\n                \"menu please!\",\\n                \"so what is in menu today?\",\\n                \"lets check your bar selection!\",\\n                \"bar menu for me please!\"\\n            ],\\n            \"responses\": [\\n                \"i could serve for your: fuzzy tauntaun, bloody rancor, jedi mind trick, t-16 skyhopper, yub nub, jet juice, hyperdrive, rancor beer.\",\\n                \"no coffe and no tea, only: fuzzy tauntaun, bloody rancor, jedi mind trick, t-16 skyhopper, yub nub, jet juice, hyperdrive, rancor beer.\",\\n                \"what about: fuzzy tauntaun, bloody rancor, jedi mind trick, t-16 skyhopper, yub nub, jet juice, hyperdrive, rancor beer, please choose!\",\\n                \"menu: fuzzy tauntaun, bloody rancor, jedi mind trick, t-16 skyhopper, yub nub, jet juice, hyperdrive, rancor beer.\",\\n                \"before mans talk choose: fuzzy tauntaun, bloody rancor, jedi mind trick, t-16 skyhopper, yub nub, jet juice, hyperdrive, rancor beer.\",\\n                \"what about: fuzzy tauntaun, bloody rancor, jedi mind trick, t-16 skyhopper, yub nub, jet juice, hyperdrive, rancor beer.\",\\n                \"what you prefere: fuzzy tauntaun, bloody rancor, jedi mind trick, t-16 skyhopper, yub nub, jet juice, hyperdrive, rancor beer.\",\\n                \"ok our best optins: fuzzy tauntaun, bloody rancor, jedi mind trick, t-16 skyhopper, yub nub, jet juice, hyperdrive, rancor beer.\",\\n                \"our bar menu: fuzzy tauntaun, bloody rancor, jedi mind trick, t-16 skyhopper, yub nub, jet juice, hyperdrive, rancor beer.\",\\n                \"be carreful with your choise: fuzzy tauntaun, bloody rancor, jedi mind trick, t-16 skyhopper, yub nub, jet juice, hyperdrive, rancor beer.\"\\n            ]\\n        },\\n        {\\n            \"tag\": \"hepl\",\\n            \"patterns\": [\\n                \"i am looking for help.\",\\n                \"i need help.\",\\n                \"can you help me?\",\\n                \"i am in trouble need a help.\",\\n                \"i hope you right person who can help me?\",\\n                \"please help me.\",\\n                \"now i will need you help with something else.\",\\n                \"i will need you help.\",\\n                \"are you able to help me.\",\\n                \"please help me with something else.\"\\n            ],\\n            \"responses\": [\\n                \"sure, how can in help you.\",\\n                \"tell me what do you lookimg for?\",\\n                \"i will help you, just tell me how.\",\\n                \"you are at the address.\",\\n                \"ok, what is issue?\",\\n                \"now you need a help? ok what you are looking for?\",\\n                \"whas is you problem?\",\\n                \"ok, you problem is my problem, if your are paying.\",\\n                \"my help cost a lot.\",\\n                \"sure, but nnot for free.\"\\n            ]\\n        },\\n        {\\n            \"tag\": \"mission\",\\n            \"patterns\": [\\n                \"i am on mission.\",\\n                \"i need assistance in my mission.\",\\n                \"i am looking for partner in mision?\",\\n                \"who can assist me with my mission?\",\\n                \"do you know any one who can assist me with my mission?\"\\n            ],\\n            \"responses\": [\\n                \"just tell me, you are looking for jedi or sith or bounti hounter?\",\\n                \"are you looking for jedi or sith or bounti hounter?\",\\n                \"only jedi or sith or bounti hounter can help you.\",\\n                \"i know only jedi, sith or bounti hounter for it.\",\\n                \"ok, some one special from jedi or sith or bounti hounter?\",\\n                \"i belive jedi or sith or bounti hounter will help you.\",\\n                \"in this case only jedi or sith or bounti hounter will assist you.\",\\n                \"did you deal before with jedi or sith or bounti hounter?\",\\n                \"here can help jedi or sith or bounti hounter.\",\\n                \"ask for jedi or sith or bounti hounter.\"\\n            ]\\n        },\\n        {\\n            \"tag\": \"jedi\",\\n            \"patterns\": [\\n                \"tell me top 10 jedi?\",\\n                \"who is the best jedi in galaxy?\",\\n                \"i am looking for the best jedi in galaxi?\",\\n                \"which jedi can help me in this mission?\",\\n                \"i need a help of jedi.\"\\n            ],\\n            \"responses\": [\\n                \"here is top 10 jedi you are looking for. luke skywalker, yoda, obi-wan kenobi, anakin skywalker, qui-gon jinn, mace windu, ahsoka tano, plo koon, aalya secura, kit fisto\",\\n                \"luke skywalker, yoda, obi-wan kenobi, anakin skywalker, qui-gon jinn, mace windu, ahsoka tano, plo koon, aalya secura, kit fisto.\",\\n                \"i will advise you to look for luke skywalker, yoda, obi-wan kenobi, anakin skywalker, qui-gon jinn, mace windu, ahsoka tano, plo koon, aalya secura, kit fisto.\",\\n                \"only luke skywalker, yoda, obi-wan kenobi, anakin skywalker, qui-gon jinn, mace windu, ahsoka tano, plo koon, aalya secura, kit fisto can help you with it.\",\\n                \"it so dangerous, the most brave jedi in galaxy luke skywalker, yoda, obi-wan kenobi, anakin skywalker, qui-gon jinn, mace windu, ahsoka tano, plo koon, aalya secura, kit fisto \"\\n            ]\\n        },\\n        {\\n            \"tag\": \"sith\",\\n            \"patterns\": [\\n                \"tell me top 10 sith?\",\\n                \"who is the best sith in galaxy?\",\\n                \"i am looking for the best sith in galaxi.\",\\n                \"which sith can help me in this mission?\",\\n                \"i need a help of sith.\"\\n            ],\\n            \"responses\": [\\n                \"here is top 10 sith you are looking for: darth vader, darth plagueis, darth revan, darth traya, darth sidious, darth maul, ulic qel-droma, asajj ventress, kylo ren, marka ragnos.\",\\n                \"darth vader, darth plagueis, darth revan, darth traya, darth sidious, darth maul, ulic qel-droma, asajj ventress, kylo ren, marka ragnos.\",\\n                \"i will advise you to look for darth vader, darth plagueis, darth revan, darth traya, darth sidious, darth maul, ulic qel-droma, asajj ventress, kylo ren, marka ragnos.\",\\n                \"only darth vader, darth plagueis, darth revan, darth traya, darth sidious, darth maul, ulic qel-droma, asajj ventress, kylo ren, marka ragnos, can help you with it.\",\\n                \"it so dangerous, the most brave sith in galaxy darth vader, darth plagueis, darth revan, darth traya, darth sidious, darth maul, ulic qel-droma, asajj ventress, kylo ren, marka ragnos.\"\\n            ]\\n        },\\n        {\\n            \"tag\": \"bounti hounter\",\\n            \"patterns\": [\\n                \"tell me top 10 bounti hounter?\",\\n                \"who is the bounti hounter sith in galaxy?\",\\n                \"i am looking for the best bounti hounter in galaxi.\",\\n                \"which bounti hounter can help me in this mission?\",\\n                \"i need a help of bounti hounter.\"\\n            ],\\n            \"responses\": [\\n                \"here is top 10 bounti hounter you are looking for: jango fett, boba fett, cad bane, durge, embo, dengar, black krrsantan, ig-88, aurra sing, sabine wren.\",\\n                \"jango fett, boba fett, cad bane, durge, embo, dengar, black krrsantan, ig-88, aurra sing, sabine wren.\",\\n                \"i will advise you to look for jango fett, boba fett, cad bane, durge, embo, dengar, black krrsantan, ig-88, aurra sing, sabine wren.\",\\n                \"only jango fett, boba fett, cad bane, durge, embo, dengar, black krrsantan, ig-88, aurra sing, sabine wren, can help you with it.\",\\n                \"it so dangerous, the most brave bounti hounter in galaxy darth jango fett, boba fett, cad bane, durge, embo, dengar, black krrsantan, ig-88, aurra sing, sabine wren.\"\\n            ]\\n        },\\n        {\\n            \"tag\": \"funny\",\\n            \"patterns\": [\\n                \"tell me a joke!\",\\n                \"can you be a bit funny\",\\n                \"tell me something funny!\",\\n                \"do you know a joke?\",\\n                \"any joke for me?\"\\n            ],\\n            \"responses\": [\\n                \"which jedi became a rock star? bon jovi-wan kenobi.\",\\n                \"what did han solo say to the waiter who recommended the haddock?, never sell me the cods!\",\\n                \"what do you need to reroute droids? r2-detour.\",\\n                \"why was the droid angry? because people kept pushing its buttons.\",\\n                \"have you tried the gluten-free wookiee treats? no, but i heard they are a little chewy.\",\\n                \"how does darth vader like his toast? on the dark side.\",\\n                \"which program do jedi use to open pdf files? adobe-wan kenobi\",\\n                \"what do you call a rebel princess who only shops at whole foods? leia organic.\",\\n                \"what’s yoda’s advice for going to the bathroom? doo-doo or doo-doo-not-do.\",\\n                \"i went to a sale at the maul. everything was half off.\"\\n            ]\\n        },\\n        {\\n            \"tag\": \"about me\",\\n            \"patterns\": [\\n                \"do you know me?\",\\n                \"who am i\",\\n                \"tell me about myself\",\\n                \"identify me\"\\n            ],\\n            \"responses\": [\\n                \"yes, you are a human\",\\n                \"you are a dumb person asking a machine about yourself\",\\n                \"sorry i can\\'t tell that in public, maybe you are jedi\"\\n            ]\\n        },\\n        {\\n            \"tag\": \"creator\",\\n            \"patterns\": [\\n                \"who is your creator?\",\\n                \"who created you\",\\n                \"who is your father.\",\\n                \"who is your daddy.\"\\n            ],\\n            \"responses\": [\\n                \"that would be you mr. aslan.\",\\n                \"i was created by mr. aslan.\",\\n                \"mr. aslan is my creator.\"\\n            ],\\n            \"context_set\": \"\"\\n        },\\n        {\\n            \"tag\": \"myself\",\\n            \"patterns\": [\\n                \"tell me about mr. aslan?\",\\n                \"who is mr. aslan\",\\n                \"mr. aslan profile\",\\n                \"mr. aslan details.\"\\n            ],\\n            \"responses\": [\\n                \"a very intelligent being who created me\",\\n                \"my creator, and he is a really intelligent man\",\\n                \"a wise and intelligent man\"\\n            ]\\n        },\\n        {\\n            \"tag\": \"stories\",\\n            \"patterns\": [\\n                \"tell me a story?\",\\n                \"can you tell me a story.\"\\n            ],\\n            \"responses\": [\\n                \"i can\\'t think of anything right now.\",\\n                \"it would be too long for me to speak.\",\\n                \"you would get bored if i do so.\"\\n            ]\\n        }\\n    ]\\n}'"
            ],
            "application/vnd.google.colaboratory.intrinsic+json": {
              "type": "string"
            }
          },
          "metadata": {},
          "execution_count": 42
        }
      ],
      "source": [
        "f=open('/content/starwarsintents.json')\n",
        "raw=f.read()\n",
        "raw = raw.lower()\n",
        "raw"
      ]
    },
    {
      "cell_type": "markdown",
      "source": [
        "Tokenization is just the term used to describe the process of converting the normal text strings into a list of tokens"
      ],
      "metadata": {
        "id": "6ZETiL--jUYy"
      }
    },
    {
      "cell_type": "code",
      "execution_count": 43,
      "metadata": {
        "id": "iUDb97RNXWsb"
      },
      "outputs": [],
      "source": [
        "sent_tokens = nltk.sent_tokenize(raw)\n",
        "word_tokens = nltk.word_tokenize(raw)"
      ]
    },
    {
      "cell_type": "code",
      "execution_count": 44,
      "metadata": {
        "id": "zvbik3stXrbv"
      },
      "outputs": [],
      "source": [
        "lemmer = nltk.stem.WordNetLemmatizer()\n",
        "\n",
        "def LemTokens(tokens):\n",
        "    return [lemmer.lemmatize(token) for token in tokens]\n",
        "remove_punct_dict = dict((ord(punct), None) for punct in string.punctuation)\n",
        "\n",
        "def LemNormalize(text):\n",
        "    return LemTokens(nltk.word_tokenize(text.lower().translate(remove_punct_dict)))"
      ]
    },
    {
      "cell_type": "code",
      "execution_count": 45,
      "metadata": {
        "id": "9m286GejXysP"
      },
      "outputs": [],
      "source": [
        "GREETING_INPUTS = (\"hello\", \"hi\",\"hey\",\"tag\")\n",
        "GREETING_RESPONSES = [\"hi\", \"hey\",\"hello\",\"goodbye\"]\n",
        "def greeting(sentence):\n",
        "\n",
        "    for word in sentence.split():\n",
        "        if word.lower() in GREETING_INPUTS:\n",
        "            return random.choice(GREETING_RESPONSES)"
      ]
    },
    {
      "cell_type": "code",
      "execution_count": 46,
      "metadata": {
        "id": "ndTJV0XSX95B"
      },
      "outputs": [],
      "source": [
        "def response(user_response):\n",
        "    robo_response=''\n",
        "    sent_tokens.append(user_response)\n",
        "    TfidfVec = TfidfVectorizer(tokenizer=LemNormalize, stop_words='english')\n",
        "    tfidf = TfidfVec.fit_transform(sent_tokens)\n",
        "    vals = cosine_similarity(tfidf[-1], tfidf)\n",
        "    idx=vals.argsort()[0][-2]\n",
        "    flat = vals.flatten()\n",
        "    flat.sort()\n",
        "    req_tfidf = flat[-2]\n",
        "    if(req_tfidf==0):\n",
        "        robo_response=robo_response+\"I am sorry! I don't understand you\"\n",
        "        return robo_response\n",
        "    else:\n",
        "        robo_response = robo_response+sent_tokens[idx]\n",
        "        return robo_response"
      ]
    },
    {
      "cell_type": "markdown",
      "source": [
        "Now the chatbot is ready to response so we get the questions ready"
      ],
      "metadata": {
        "id": "D5CjcRT8jX8x"
      }
    },
    {
      "cell_type": "code",
      "source": [
        "flag=True\n",
        "print(\"ROBO: My name is sivaruban.I will clarify all the things that we ask and also will give reply to your messages\")\n",
        "while(flag==True):\n",
        "    user_response = input()\n",
        "    user_response=user_response.lower()\n",
        "    if(user_response!='bye'):\n",
        "        if(user_response=='thanks' or user_response=='thank you' ):\n",
        "            flag=False\n",
        "            print(\"ROBO: You are welcome..\")\n",
        "        else:\n",
        "            if(greeting(user_response)!=None):\n",
        "                print(\"ROBO: \"+greeting(user_response))\n",
        "            else:\n",
        "                print(\"ROBO: \",end=\"\")\n",
        "                print(response(user_response))\n",
        "                sent_tokens.remove(user_response)\n",
        "    else:\n",
        "        flag=False\n",
        "        print(\"ROBO: Bye! take care..\")"
      ],
      "metadata": {
        "colab": {
          "base_uri": "https://localhost:8080/",
          "height": 0
        },
        "id": "ZzqU7CNUh5Wt",
        "outputId": "16a81baa-b13c-451b-9df8-9165823ede2a"
      },
      "execution_count": null,
      "outputs": [
        {
          "output_type": "stream",
          "name": "stdout",
          "text": [
            "ROBO: My name is sivaruban.I will clarify all the things that we ask and also will give reply to your messages\n",
            "hello\n",
            "ROBO: goodbye\n",
            "hi\n",
            "ROBO: hello\n",
            "tag\n",
            "ROBO: hi\n",
            "hey\n",
            "ROBO: goodbye\n"
          ]
        }
      ]
    }
  ],
  "metadata": {
    "colab": {
      "provenance": []
    },
    "kernelspec": {
      "display_name": "Python 3",
      "name": "python3"
    },
    "language_info": {
      "name": "python"
    }
  },
  "nbformat": 4,
  "nbformat_minor": 0
}